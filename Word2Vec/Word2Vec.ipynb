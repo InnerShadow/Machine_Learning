{
  "cells": [
    {
      "cell_type": "code",
      "execution_count": null,
      "metadata": {
        "id": "7uDEyNne028H"
      },
      "outputs": [],
      "source": [
        "import numpy as np\n",
        "from keras.models import Sequential\n",
        "from keras.layers import Dense\n",
        "\n",
        "import matplotlib.pyplot as plt"
      ]
    },
    {
      "cell_type": "code",
      "execution_count": 3,
      "metadata": {
        "colab": {
          "base_uri": "https://localhost:8080/"
        },
        "id": "WpiSxFrK093Z",
        "outputId": "c63b5754-ce5e-401b-8ef6-da6473480820"
      },
      "outputs": [
        {
          "name": "stdout",
          "output_type": "stream",
          "text": [
            "['beautiful', 'boy', 'daughter', 'future', 'king', 'man', 'prince', 'princess', 'queen', 'son', 'strong', 'woman']\n",
            "Total num of words are: 12\n"
          ]
        }
      ],
      "source": [
        "with open('data.txt', 'r') as f:\n",
        "      data = f.readlines()\n",
        "\n",
        "for i in range(len(data)):\n",
        "    data[i] = data[i].lower().replace('\\n', '')\n",
        "\n",
        "stop_words = ['the', 'is', 'will', 'be', 'a', 'only', 'can', 'their', 'now', 'and', 'at', 'it']\n",
        "\n",
        "filterd_data = []\n",
        "for sent in data:\n",
        "    temp = []\n",
        "    for word in sent.split():\n",
        "        if word not in stop_words:\n",
        "            temp.append(word)\n",
        "        filterd_data.append(temp)\n",
        "\n",
        "bigrams = []\n",
        "for word_list in filterd_data:\n",
        "    for i in range(len(word_list) - 1):\n",
        "        for j in range(i + 1, len(word_list)):\n",
        "            bigrams.append([word_list[i], word_list[j]])\n",
        "            bigrams.append([word_list[j], word_list[i]])\n",
        "\n",
        "all_words = []\n",
        "\n",
        "for bi in bigrams:\n",
        "    all_words.extend(bi)\n",
        "\n",
        "all_words = list(set(all_words))\n",
        "all_words.sort()\n",
        "\n",
        "print(all_words)\n",
        "print(f'Total num of words are: {len(all_words)}')\n",
        "\n",
        "word_dict = {}\n",
        "\n",
        "counter = 0\n",
        "for word in all_words:\n",
        "    word_dict[word] = counter\n",
        "    counter += 1\n",
        "\n",
        "onehot_data = np.zeros((len(all_words), len(all_words)))\n",
        "for i in range(len(all_words)):\n",
        "    onehot_data[i][i] = 1\n",
        "\n",
        "onehot_dict = {}\n",
        "counter = 0\n",
        "for word in all_words:\n",
        "    onehot_dict[word] = onehot_data[counter]\n",
        "    counter += 1\n",
        "\n",
        "X = []\n",
        "Y = []\n",
        "\n",
        "for bi in bigrams:\n",
        "    X.append(onehot_dict[bi[0]])\n",
        "    Y.append(onehot_dict[bi[1]])\n",
        "\n",
        "X = np.array(X)\n",
        "Y = np.array(Y)"
      ]
    },
    {
      "cell_type": "code",
      "execution_count": 7,
      "metadata": {
        "colab": {
          "base_uri": "https://localhost:8080/"
        },
        "id": "hiT-fX4-18O8",
        "outputId": "7ede0580-a555-4162-991f-5b8a5595e8e7"
      },
      "outputs": [
        {
          "data": {
            "text/plain": [
              "<keras.src.callbacks.History at 0x7f6504da4700>"
            ]
          },
          "execution_count": 7,
          "metadata": {},
          "output_type": "execute_result"
        }
      ],
      "source": [
        "embending_size = 2\n",
        "\n",
        "model = Sequential([\n",
        "    Dense(embending_size, activation = 'linear'),\n",
        "    Dense(Y.shape[1], activation = 'softmax')\n",
        "])\n",
        "\n",
        "model.compile(loss = 'categorical_crossentropy', optimizer = 'adam')\n",
        "\n",
        "model.fit(X, Y, epochs = 1000, batch_size = 256, verbose = False)"
      ]
    },
    {
      "cell_type": "code",
      "execution_count": 8,
      "metadata": {
        "id": "ZpXi8Vvt4vF1"
      },
      "outputs": [],
      "source": [
        "weights = model.get_weights()[0]\n",
        "\n",
        "word_embending = {}\n",
        "for word in all_words:\n",
        "    word_embending[word] = weights[word_dict[word]]"
      ]
    },
    {
      "cell_type": "code",
      "execution_count": 9,
      "metadata": {
        "colab": {
          "base_uri": "https://localhost:8080/",
          "height": 430
        },
        "id": "mEqyeyo35cff",
        "outputId": "fd00baf8-cb04-4c06-b660-ce704f14c0f9"
      },
      "outputs": [
        {
          "data": {
            "image/png": "[encoded data removed]",
            "text/plain": [
              "<Figure size 640x480 with 1 Axes>"
            ]
          },
          "metadata": {},
          "output_type": "display_data"
        }
      ],
      "source": [
        "for word in list(word_dict.keys()):\n",
        "    coord = word_embending.get(word)\n",
        "    plt.scatter(coord[0], coord[1])\n",
        "    plt.annotate(word, (coord[0], coord[1]))\n",
        "\n",
        "plt.show()"
      ]
    }
  ],
  "metadata": {
    "colab": {
      "provenance": []
    },
    "kernelspec": {
      "display_name": "Python 3",
      "name": "python3"
    },
    "language_info": {
      "codemirror_mode": {
        "name": "ipython",
        "version": 3
      },
      "file_extension": ".py",
      "mimetype": "text/x-python",
      "name": "python",
      "nbconvert_exporter": "python",
      "pygments_lexer": "ipython3",
      "version": "3.10.12"
    }
  },
  "nbformat": 4,
  "nbformat_minor": 0
}
