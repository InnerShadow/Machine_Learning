{
  "nbformat": 4,
  "nbformat_minor": 0,
  "metadata": {
    "colab": {
      "provenance": []
    },
    "kernelspec": {
      "name": "python3",
      "display_name": "Python 3"
    },
    "language_info": {
      "name": "python"
    }
  },
  "cells": [
    {
      "cell_type": "code",
      "execution_count": 60,
      "metadata": {
        "id": "7uDEyNne028H"
      },
      "outputs": [],
      "source": [
        "import numpy as np\n",
        "from keras.models import Sequential\n",
        "from keras.layers import Dense\n",
        "\n",
        "import matplotlib.pyplot as plt"
      ]
    },
    {
      "cell_type": "code",
      "source": [
        "with open('data.txt', 'r') as f:\n",
        "      data = f.readlines()\n",
        "\n",
        "for i in range(len(data)):\n",
        "    data[i] = data[i].lower().replace('\\n', '')\n",
        "\n",
        "stop_words = ['the', 'is', 'will', 'be', 'a', 'only', 'can', 'their', 'now', 'and', 'at', 'it']\n",
        "\n",
        "filterd_data = []\n",
        "for sent in data:\n",
        "    temp = []\n",
        "    for word in sent.split():\n",
        "        if word not in stop_words:\n",
        "            temp.append(word)\n",
        "        filterd_data.append(temp)\n",
        "\n",
        "bigrams = []\n",
        "for word_list in filterd_data:\n",
        "    for i in range(len(word_list) - 1):\n",
        "        for j in range(i + 1, len(word_list)):\n",
        "            bigrams.append([word_list[i], word_list[j]])\n",
        "            bigrams.append([word_list[j], word_list[i]])\n",
        "\n",
        "all_words = []\n",
        "\n",
        "for bi in bigrams:\n",
        "    all_words.extend(bi)\n",
        "\n",
        "all_words = list(set(all_words))\n",
        "all_words.sort()\n",
        "\n",
        "print(all_words)\n",
        "print(f'Total num of words are: {len(all_words)}')\n",
        "\n",
        "word_dict = {}\n",
        "\n",
        "counter = 0\n",
        "for word in all_words:\n",
        "    word_dict[word] = counter\n",
        "    counter += 1\n",
        "\n",
        "onehot_data = np.zeros((len(all_words), len(all_words)))\n",
        "for i in range(len(all_words)):\n",
        "    onehot_data[i][i] = 1\n",
        "\n",
        "onehot_dict = {}\n",
        "counter = 0\n",
        "for word in all_words:\n",
        "    onehot_dict[word] = onehot_data[counter]\n",
        "    counter += 1\n",
        "\n",
        "X = []\n",
        "Y = []\n",
        "\n",
        "for bi in bigrams:\n",
        "    X.append(onehot_dict[bi[0]])\n",
        "    Y.append(onehot_dict[bi[1]])\n",
        "\n",
        "X = np.array(X)\n",
        "Y = np.array(Y)"
      ],
      "metadata": {
        "id": "WpiSxFrK093Z",
        "colab": {
          "base_uri": "https://localhost:8080/"
        },
        "outputId": "c63b5754-ce5e-401b-8ef6-da6473480820"
      },
      "execution_count": 62,
      "outputs": [
        {
          "output_type": "stream",
          "name": "stdout",
          "text": [
            "['beautiful', 'boy', 'daughter', 'future', 'king', 'man', 'prince', 'princess', 'queen', 'son', 'strong', 'woman']\n",
            "Total num of words are: 12\n"
          ]
        }
      ]
    },
    {
      "cell_type": "code",
      "source": [
        "embending_size = 2\n",
        "\n",
        "model = Sequential([\n",
        "    Dense(embending_size, activation = 'linear'),\n",
        "    Dense(Y.shape[1], activation = 'softmax')\n",
        "])\n",
        "\n",
        "model.compile(loss = 'categorical_crossentropy', optimizer = 'adam')\n",
        "\n",
        "model.fit(X, Y, epochs = 1000, batch_size = 256, verbose = False)"
      ],
      "metadata": {
        "id": "hiT-fX4-18O8",
        "colab": {
          "base_uri": "https://localhost:8080/"
        },
        "outputId": "7ede0580-a555-4162-991f-5b8a5595e8e7"
      },
      "execution_count": 73,
      "outputs": [
        {
          "output_type": "execute_result",
          "data": {
            "text/plain": [
              "<keras.src.callbacks.History at 0x784417d1b430>"
            ]
          },
          "metadata": {},
          "execution_count": 73
        }
      ]
    },
    {
      "cell_type": "code",
      "source": [
        "weights = model.get_weights()[0]\n",
        "\n",
        "word_embending = {}\n",
        "for word in all_words:\n",
        "    word_embending[word] = weights[word_dict[word]]"
      ],
      "metadata": {
        "id": "ZpXi8Vvt4vF1"
      },
      "execution_count": 74,
      "outputs": []
    },
    {
      "cell_type": "code",
      "source": [
        "for word in list(word_dict.keys()):\n",
        "    coord = word_embending.get(word)\n",
        "    plt.scatter(coord[0], coord[1])\n",
        "    plt.annotate(word, (coord[0], coord[1]))\n",
        "\n",
        "plt.show()"
      ],
      "metadata": {
        "colab": {
          "base_uri": "https://localhost:8080/",
          "height": 430
        },
        "id": "mEqyeyo35cff",
        "outputId": "fd00baf8-cb04-4c06-b660-ce704f14c0f9"
      },
      "execution_count": 75,
      "outputs": [
        {
          "output_type": "display_data",
          "data": {
            "text/plain": [
              "<Figure size 640x480 with 1 Axes>"
            ],
            "image/png": "[encoded data removed]"
          },
          "metadata": {}
        }
      ]
    }
  ]
}